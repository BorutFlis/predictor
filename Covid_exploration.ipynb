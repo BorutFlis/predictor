{
  "nbformat": 4,
  "nbformat_minor": 0,
  "metadata": {
    "colab": {
      "name": "Covid_exploration.ipynb",
      "provenance": [],
      "authorship_tag": "ABX9TyOoMrMda4kcew7u9+gHvwvN",
      "include_colab_link": true
    },
    "kernelspec": {
      "name": "python3",
      "display_name": "Python 3"
    }
  },
  "cells": [
    {
      "cell_type": "markdown",
      "metadata": {
        "id": "view-in-github",
        "colab_type": "text"
      },
      "source": [
        "<a href=\"https://colab.research.google.com/github/BorutFlis/predictor/blob/master/Covid_exploration.ipynb\" target=\"_parent\"><img src=\"https://colab.research.google.com/assets/colab-badge.svg\" alt=\"Open In Colab\"/></a>"
      ]
    },
    {
      "cell_type": "code",
      "metadata": {
        "id": "r-4d0QLUCWEc"
      },
      "source": [
        "!wget https://raw.githubusercontent.com/BorutFlis/predictor/master/data_file/covid_comparison.csv"
      ],
      "execution_count": null,
      "outputs": []
    },
    {
      "cell_type": "code",
      "metadata": {
        "id": "np7mmTJ9CrAw"
      },
      "source": [
        "import seaborn as sns\r\n",
        "import matplotlib.pyplot as plt\r\n",
        "import pandas as pd"
      ],
      "execution_count": 18,
      "outputs": []
    },
    {
      "cell_type": "code",
      "metadata": {
        "colab": {
          "base_uri": "https://localhost:8080/",
          "height": 514
        },
        "id": "7HkPWTD2DhjN",
        "outputId": "1c9c17fd-ad59-4331-c660-a8b4fd54a764"
      },
      "source": [
        "df=pd.read_csv(\"covid_comparison.csv\",index_col=0)\r\n",
        "\r\n",
        "contingency_pct=pd.crosstab(df[\"Era\"],df[\"Result\"],normalize=\"index\")\r\n",
        "plt.figure(figsize=(12,8)) \r\n",
        "sns.heatmap(contingency_pct, annot=True, cmap=\"YlGnBu\")"
      ],
      "execution_count": 6,
      "outputs": [
        {
          "output_type": "execute_result",
          "data": {
            "text/plain": [
              "<matplotlib.axes._subplots.AxesSubplot at 0x7fcd81e140f0>"
            ]
          },
          "metadata": {
            "tags": []
          },
          "execution_count": 6
        },
        {
          "output_type": "display_data",
          "data": {
            "image/png": "[encoded data removed]",
            "text/plain": [
              "<Figure size 864x576 with 2 Axes>"
            ]
          },
          "metadata": {
            "tags": [],
            "needs_background": "light"
          }
        }
      ]
    },
    {
      "cell_type": "code",
      "metadata": {
        "colab": {
          "base_uri": "https://localhost:8080/"
        },
        "id": "80w3JwHsEDUs",
        "outputId": "102dda2e-54d6-4eeb-dbc5-e3ae15eed224"
      },
      "source": [
        "from scipy.stats import chi2_contingency\r\n",
        "\r\n",
        "contingency=pd.crosstab(df[\"Era\"],df[\"Result\"])\r\n",
        "c, p, dof, expected = chi2_contingency(contingency)\r\n",
        "print(p)"
      ],
      "execution_count": 7,
      "outputs": [
        {
          "output_type": "stream",
          "text": [
            "0.00022591928684685428\n"
          ],
          "name": "stdout"
        }
      ]
    },
    {
      "cell_type": "markdown",
      "metadata": {
        "id": "uF2NdUoBEYIM"
      },
      "source": [
        "The p-value of the Chi-Square test is less than 0.05, which means we can reject the hypothesis that the distribtuion of the results is independent of whether the games where pre or post Covid outbreak.\r\n"
      ]
    },
    {
      "cell_type": "code",
      "metadata": {
        "colab": {
          "base_uri": "https://localhost:8080/",
          "height": 103
        },
        "id": "Qg8tgfcrOTOx",
        "outputId": "5c08d411-3a95-44d6-ecf5-d318f56b5d9f"
      },
      "source": [
        "from scipy.stats import ttest_ind\r\n",
        "df= df[~df.loc[:,[\"B365H\",\"B365D\",\"B365A\"]].isna().any(axis=1)]\r\n",
        "mask=df.Era.eq(\"Post - Covid\")\r\n",
        "\r\n",
        "all_tests=[]\r\n",
        "all_tests.append(ttest_ind(df[mask][\"B365H\"],df[~mask][\"B365H\"]))\r\n",
        "all_tests.append(ttest_ind(df[mask][\"B365D\"],df[~mask][\"B365D\"]))\r\n",
        "all_tests.append(ttest_ind(df[mask][\"B365A\"],df[~mask][\"B365A\"]))\r\n",
        "\r\n",
        "all_tests=pd.DataFrame(all_tests,index=[\"Home\",\"Draw\",\"Away\"])\r\n",
        "all_tests.style"
      ],
      "execution_count": 21,
      "outputs": [
        {
          "output_type": "execute_result",
          "data": {
            "text/html": [
              "<style  type=\"text/css\" >\n",
              "</style><table id=\"T_39445a72_5f00_11eb_ac53_0242ac1c0002\" ><thead>    <tr>        <th class=\"blank level0\" ></th>        <th class=\"col_heading level0 col0\" >statistic</th>        <th class=\"col_heading level0 col1\" >pvalue</th>    </tr></thead><tbody>\n",
              "                <tr>\n",
              "                        <th id=\"T_39445a72_5f00_11eb_ac53_0242ac1c0002level0_row0\" class=\"row_heading level0 row0\" >Home</th>\n",
              "                        <td id=\"T_39445a72_5f00_11eb_ac53_0242ac1c0002row0_col0\" class=\"data row0 col0\" >0.591532</td>\n",
              "                        <td id=\"T_39445a72_5f00_11eb_ac53_0242ac1c0002row0_col1\" class=\"data row0 col1\" >0.554206</td>\n",
              "            </tr>\n",
              "            <tr>\n",
              "                        <th id=\"T_39445a72_5f00_11eb_ac53_0242ac1c0002level0_row1\" class=\"row_heading level0 row1\" >Draw</th>\n",
              "                        <td id=\"T_39445a72_5f00_11eb_ac53_0242ac1c0002row1_col0\" class=\"data row1 col0\" >-2.252993</td>\n",
              "                        <td id=\"T_39445a72_5f00_11eb_ac53_0242ac1c0002row1_col1\" class=\"data row1 col1\" >0.024327</td>\n",
              "            </tr>\n",
              "            <tr>\n",
              "                        <th id=\"T_39445a72_5f00_11eb_ac53_0242ac1c0002level0_row2\" class=\"row_heading level0 row2\" >Away</th>\n",
              "                        <td id=\"T_39445a72_5f00_11eb_ac53_0242ac1c0002row2_col0\" class=\"data row2 col0\" >-5.070303</td>\n",
              "                        <td id=\"T_39445a72_5f00_11eb_ac53_0242ac1c0002row2_col1\" class=\"data row2 col1\" >0.000000</td>\n",
              "            </tr>\n",
              "    </tbody></table>"
            ],
            "text/plain": [
              "<pandas.io.formats.style.Styler at 0x7fcd708fc5c0>"
            ]
          },
          "metadata": {
            "tags": []
          },
          "execution_count": 21
        }
      ]
    },
    {
      "cell_type": "markdown",
      "metadata": {
        "id": "hboLL9K3Qy_i"
      },
      "source": [
        "There is a significant difference in the odds for draws and away victories, on the other hand there is not difference home odds, which essentially means they have adjusted for the higher probability of away victories, but not for the lower probability of home victories.\r\n"
      ]
    }
  ]
}