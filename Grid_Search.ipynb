{
  "nbformat": 4,
  "nbformat_minor": 0,
  "metadata": {
    "colab": {
      "name": "Grid_Search.ipynb",
      "provenance": [],
      "authorship_tag": "ABX9TyNFnRxK0jzkIfqKZLph9azI",
      "include_colab_link": true
    },
    "kernelspec": {
      "name": "python3",
      "display_name": "Python 3"
    }
  },
  "cells": [
    {
      "cell_type": "markdown",
      "metadata": {
        "id": "view-in-github",
        "colab_type": "text"
      },
      "source": [
        "<a href=\"https://colab.research.google.com/github/BorutFlis/predictor/blob/master/Grid_Search.ipynb\" target=\"_parent\"><img src=\"https://colab.research.google.com/assets/colab-badge.svg\" alt=\"Open In Colab\"/></a>"
      ]
    },
    {
      "cell_type": "code",
      "metadata": {
        "colab": {
          "base_uri": "https://localhost:8080/"
        },
        "id": "mR6C7i0sYXpE",
        "outputId": "52e8071a-da1b-49a6-cac5-a824c540d03c"
      },
      "source": [
        "!wget https://raw.githubusercontent.com/BorutFlis/predictor/master/classifier_country.csv"
      ],
      "execution_count": 1,
      "outputs": [
        {
          "output_type": "stream",
          "text": [
            "--2020-12-16 11:54:44--  https://raw.githubusercontent.com/BorutFlis/predictor/master/classifier_country.csv\n",
            "Resolving raw.githubusercontent.com (raw.githubusercontent.com)... 151.101.0.133, 151.101.64.133, 151.101.128.133, ...\n",
            "Connecting to raw.githubusercontent.com (raw.githubusercontent.com)|151.101.0.133|:443... connected.\n",
            "HTTP request sent, awaiting response... 200 OK\n",
            "Length: 2343171 (2.2M) [text/plain]\n",
            "Saving to: ‘classifier_country.csv’\n",
            "\n",
            "classifier_country. 100%[===================>]   2.23M  --.-KB/s    in 0.1s    \n",
            "\n",
            "2020-12-16 11:54:44 (20.6 MB/s) - ‘classifier_country.csv’ saved [2343171/2343171]\n",
            "\n"
          ],
          "name": "stdout"
        }
      ]
    },
    {
      "cell_type": "code",
      "metadata": {
        "id": "AOsM63EPZVMd"
      },
      "source": [
        "import pandas as pd\r\n",
        "from sklearn.compose import ColumnTransformer\r\n",
        "from sklearn.pipeline import Pipeline\r\n",
        "from sklearn.model_selection import train_test_split\r\n",
        "from sklearn.ensemble import RandomForestRegressor\r\n",
        "from sklearn.preprocessing import StandardScaler, OneHotEncoder\r\n",
        "\r\n",
        "df=pd.read_csv(\"classifier_country.csv\",index_col=0)"
      ],
      "execution_count": 5,
      "outputs": []
    },
    {
      "cell_type": "code",
      "metadata": {
        "id": "Yt1UT6_KaDZ-"
      },
      "source": [
        "numeric_transformer = Pipeline(steps=[\r\n",
        "    ('scaler', StandardScaler())])\r\n",
        "categorical_transformer = Pipeline(steps=[\r\n",
        "    ('onehot', OneHotEncoder(handle_unknown='ignore'))])\r\n",
        "\r\n",
        "X_train, X_test, y_train, y_test = train_test_split(df.iloc[:,-22:-1],df.loc[:,\"odds_ft_home_team_win\"])\r\n",
        "\r\n",
        "numeric_features = X_train.select_dtypes(include=['int64', 'float64']).columns\r\n",
        "categorical_features=[\"country\"]\r\n",
        "\r\n",
        "preprocessor = ColumnTransformer(\r\n",
        "    transformers=[\r\n",
        "        ('num', numeric_transformer, numeric_features),\r\n",
        "        ('cat', categorical_transformer, categorical_features)]\r\n",
        ")\r\n",
        "rf = Pipeline(steps=[('preprocessor', preprocessor),\r\n",
        "                      ('regressor', RandomForestRegressor())])"
      ],
      "execution_count": 10,
      "outputs": []
    },
    {
      "cell_type": "code",
      "metadata": {
        "id": "wSWiSHdbY7d7"
      },
      "source": [
        "param_grid = { \r\n",
        "    'regressor__n_estimators': [200, 500],\r\n",
        "    'regressor__max_depth' : [4,5,6,7,8]}"
      ],
      "execution_count": 15,
      "outputs": []
    },
    {
      "cell_type": "code",
      "metadata": {
        "colab": {
          "base_uri": "https://localhost:8080/"
        },
        "id": "sOnqdJT4b_Lb",
        "outputId": "495c8b7d-10e8-4d14-c87e-c6cfb06df16b"
      },
      "source": [
        "from sklearn.model_selection import GridSearchCV\r\n",
        "CV = GridSearchCV(rf, param_grid, n_jobs= 1)\r\n",
        "                  \r\n",
        "CV.fit(X_train, y_train)  \r\n",
        "print(CV.best_params_)    \r\n",
        "print(CV.best_score_)"
      ],
      "execution_count": 16,
      "outputs": [
        {
          "output_type": "stream",
          "text": [
            "{'regressor__max_depth': 8, 'regressor__n_estimators': 500}\n",
            "0.7170890936033264\n"
          ],
          "name": "stdout"
        }
      ]
    }
  ]
}